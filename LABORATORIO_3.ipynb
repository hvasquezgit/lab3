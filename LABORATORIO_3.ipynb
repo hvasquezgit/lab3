{
 "cells": [
  {
   "cell_type": "code",
   "execution_count": 4,
   "id": "c1544eba",
   "metadata": {},
   "outputs": [
    {
     "name": "stdout",
     "output_type": "stream",
     "text": [
      "Ingrese el numero a convertir a binario: 15\n",
      "1111\n",
      "\n",
      " Terminó el programa...\n"
     ]
    }
   ],
   "source": [
    "# 1) Cree un procedimiento en Python dado un número entero en decimal despliegue su representación en numero binario\n",
    "\n",
    "try: \n",
    "    v_numero = int(input(\"Ingrese el numero a convertir a binario: \"))\n",
    "    v_binario = format(v_numero, \"b\")\n",
    "    print(v_binario)\n",
    "except(ValueError):\n",
    "  print(\"Los datos no son validos.\")\n",
    "finally:\n",
    "  print(\"\\n Terminó el programa...\")"
   ]
  },
  {
   "cell_type": "code",
   "execution_count": 11,
   "id": "311510bd",
   "metadata": {},
   "outputs": [
    {
     "name": "stdout",
     "output_type": "stream",
     "text": [
      "Ingrese el numero para saber si es o no primo: 5\n",
      "True\n",
      "\n",
      " Terminó el programa...\n"
     ]
    }
   ],
   "source": [
    "# 2) Desarrolle en Python una funcion que devuelva verdadero si un numero entero que recibe como parametro\n",
    "#es primo y devuelva falso en el caso contrario\n",
    "def fn_numero_primo(numero):\n",
    "    for n in range(2, numero):\n",
    "        if numero % n == 0:\n",
    "            return False\n",
    "    return True\n",
    "\n",
    "\n",
    "try: \n",
    "    v_numero = int(input(\"Ingrese el numero para saber si es o no primo: \"))\n",
    "    print(fn_numero_primo(v_numero))\n",
    "except(ValueError):\n",
    "  print(\"Los datos no son validos.\")\n",
    "finally:\n",
    "  print(\"\\n Terminó el programa...\")"
   ]
  },
  {
   "cell_type": "code",
   "execution_count": 59,
   "id": "94da93bb",
   "metadata": {},
   "outputs": [
    {
     "name": "stdout",
     "output_type": "stream",
     "text": [
      "1\n",
      "0\n",
      "9\n",
      "16\n",
      "26.0\n",
      "Desviación estandar:  2.5495097567963922\n"
     ]
    }
   ],
   "source": [
    "# 3) Haga un programa en Python que dada una lista de n números, calcule la desviación estándar\n",
    "#del conjunto de números, para este ejercicio no puede utilizar ninguna función que resuelva el problema\n",
    "import numpy as np\n",
    "\n",
    "lista = [4,5,2,9]\n",
    "media = sum(lista)/len(lista)\n",
    "total = 0\n",
    "\n",
    "for n in lista:\n",
    "    temp = n-media\n",
    "    total = total + temp**2\n",
    "    print(int(temp**2))\n",
    "\n",
    "print(total)\n",
    "paso_4 = total/len(lista)\n",
    "print(\"Desviación estandar: \",np.sqrt(paso_4))"
   ]
  },
  {
   "cell_type": "code",
   "execution_count": 78,
   "id": "456e5ad9",
   "metadata": {},
   "outputs": [
    {
     "name": "stdout",
     "output_type": "stream",
     "text": [
      "[1, 2, 3, 4, 5, 6, 7, 8, 9]\n"
     ]
    }
   ],
   "source": [
    "# 4) Desarrolle en Python una funcion que dado un arreglo corra el algoritmo de ordenamiento burbuja\n",
    "# y devuelva un nuevo arreglo ordenado. Posteriormente cree una funcion main para probar su funcion\n",
    "def funcion_ordenar(arr, n):\n",
    "\tfor i in range(n):\n",
    "\t\tfor j in range(n - i - 1):\n",
    "\t\t\tif arr[j] > arr[j + 1]:\n",
    "\t\t\t\tarr[j], arr[j + 1] = arr[j + 1], arr[j]\n",
    "\n",
    "if __name__ == '__main__':\n",
    "\tarr = [3, 4, 7, 8, 1, 9, 5, 2, 6]\n",
    "\tfuncion_ordenar(arr, 9)\n",
    "\n",
    "\tprint(str(arr))"
   ]
  },
  {
   "cell_type": "code",
   "execution_count": 86,
   "id": "731e1908",
   "metadata": {},
   "outputs": [
    {
     "data": {
      "text/plain": [
       "tuple"
      ]
     },
     "execution_count": 86,
     "metadata": {},
     "output_type": "execute_result"
    }
   ],
   "source": [
    "tupla = (10,20,40,5,70)\n",
    "type(tupla)"
   ]
  },
  {
   "cell_type": "code",
   "execution_count": 91,
   "id": "3df91c31",
   "metadata": {},
   "outputs": [
    {
     "name": "stdout",
     "output_type": "stream",
     "text": [
      "10\n",
      "20\n",
      "40\n",
      "5\n",
      "70\n"
     ]
    },
    {
     "data": {
      "text/plain": [
       "'102040570'"
      ]
     },
     "execution_count": 91,
     "metadata": {},
     "output_type": "execute_result"
    }
   ],
   "source": [
    "#5) Escriba una funcion en python que dada una tupla de elementos (numeros o letras) esta\n",
    "# se convierta a un string. Tomar nota del siguiente ejemplo:\n",
    "# * Si la entrada fuera:(10,20,40,5,70)\n",
    "# * La salida deberìa ser 102040570\n",
    "tupla = (10,20,40,5,70)\n",
    "salida = ''\n",
    "\n",
    "for n in tupla:\n",
    "    salida = str(salida) + str(n)\n",
    "    print(n)\n",
    "    \n",
    "salida"
   ]
  },
  {
   "cell_type": "code",
   "execution_count": 144,
   "id": "5d8d7975",
   "metadata": {},
   "outputs": [
    {
     "data": {
      "text/plain": [
       "[(), 'X', ('a', 'b'), ('a', 'b', 'c'), 'd']"
      ]
     },
     "execution_count": 144,
     "metadata": {},
     "output_type": "execute_result"
    }
   ],
   "source": [
    "# 6) Cree un programa en Python que dada una lista de tuplas, elimine las tuplas que estan vacias\n",
    "# tomar nota del siguiente ejemplo:\n",
    "#* Si la lista fuera [(),(),('X'),('a','b'),('a','b','c'),('d')]\n",
    "#* El resultado deberia ser: [('X'),('a','b'),('a','b','c','d')]\n",
    "\n",
    "lista_tuplas = [(),(),('X'),('a','b'),('a','b','c'),('d')]\n",
    "\n",
    "for n in lista_tuplas:\n",
    "    if (n == ()):\n",
    "        lista_tuplas.remove(n)\n",
    "    #print(t)\n",
    "    \n",
    "lista_tuplas"
   ]
  },
  {
   "cell_type": "code",
   "execution_count": 166,
   "id": "1ec895f0",
   "metadata": {},
   "outputs": [
    {
     "name": "stdout",
     "output_type": "stream",
     "text": [
      "10.5\n",
      "44.0\n",
      "58.0\n"
     ]
    }
   ],
   "source": [
    "# cree una funcion en python que dad una tupla de tuplas con numeros, produzca una tula\n",
    "#con el promedio de cada tupla individual. Tomar nota del siguiente ejemplo\n",
    "# si la tupla de entrada fuera ((10,10,10,12),(30,45,56,45),(81,80,39,32))\n",
    "# el resultado deberia ser (10.5,44,58)\n",
    "tupla = ((10,10,10,12),(30,45,56,45),(81,80,39,32))\n",
    "\n",
    "for n in tupla:\n",
    "    salida = sum(n)/len(n)\n",
    "    print(salida)"
   ]
  }
 ],
 "metadata": {
  "kernelspec": {
   "display_name": "Python 3 (ipykernel)",
   "language": "python",
   "name": "python3"
  },
  "language_info": {
   "codemirror_mode": {
    "name": "ipython",
    "version": 3
   },
   "file_extension": ".py",
   "mimetype": "text/x-python",
   "name": "python",
   "nbconvert_exporter": "python",
   "pygments_lexer": "ipython3",
   "version": "3.9.7"
  }
 },
 "nbformat": 4,
 "nbformat_minor": 5
}
